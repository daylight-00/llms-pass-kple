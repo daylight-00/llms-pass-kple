{
 "cells": [
  {
   "cell_type": "code",
   "execution_count": null,
   "metadata": {},
   "outputs": [],
   "source": [
    "# 240705\n",
    "\n",
    "import os\n",
    "from glob import glob\n",
    "import pandas as pd"
   ]
  },
  {
   "cell_type": "code",
   "execution_count": null,
   "metadata": {},
   "outputs": [
    {
     "data": {
      "text/plain": [
       "76"
      ]
     },
     "execution_count": 2,
     "metadata": {},
     "output_type": "execute_result"
    }
   ],
   "source": [
    "path = r'../1_run/output'\n",
    "\n",
    "papers = glob(path + '/*.json')\n",
    "len(papers)"
   ]
  },
  {
   "cell_type": "code",
   "execution_count": null,
   "metadata": {},
   "outputs": [],
   "source": [
    "data = {'name': [], 'kor': [], 'eng': []}\n",
    "df = pd.DataFrame(data)\n",
    "\n",
    "for paper in papers:\n",
    "    basename = os.path.basename(paper).split(' [')[0]\n",
    "\n",
    "    if basename not in df['name'].tolist():\n",
    "        new_row = pd.DataFrame({'name': [basename], 'kor': [None], 'eng': [None]})\n",
    "        df = pd.concat([df, new_row], ignore_index=True)\n",
    "\n",
    "    if 'q1' in os.path.basename(paper).split(' [')[-1]:\n",
    "        df.loc[df['name'] == basename, 'kor'] = paper\n",
    "    elif 'q2' in os.path.basename(paper).split(' [')[-1]:\n",
    "        df.loc[df['name'] == basename, 'eng'] = paper\n",
    "\n",
    "# For Dirty\n",
    "# for i, paper in enumerate(papers):\n",
    "#     basename = paper.split('\\\\')[-2]+'-'+os.path.basename(paper).split('_q')[0]\n",
    "#     if basename not in df['name'].tolist():\n",
    "#         new_row = pd.DataFrame({'name': [basename], 'kor': [None], 'eng': [None]})\n",
    "#         df = pd.concat([df, new_row], ignore_index=True)\n",
    "#     if 'q1' in os.path.basename(paper).split(' [')[-1]:\n",
    "#         df.loc[df['name'] == basename, 'kor'] = paper\n",
    "#     elif 'q2' in os.path.basename(paper).split(' [')[-1]:\n",
    "#         df.loc[df['name'] == basename, 'eng'] = paper\n"
   ]
  },
  {
   "cell_type": "code",
   "execution_count": null,
   "metadata": {},
   "outputs": [],
   "source": [
    "df_reform = pd.DataFrame(columns=['name', 'path', 'split'])\n",
    "\n",
    "for idx, row in df.iterrows():\n",
    "    if row['kor']:\n",
    "        new_row = pd.DataFrame({'name': [row['name'] + ' [kor]'], 'path': [row['kor']], 'split': ['@']})\n",
    "        df_reform = pd.concat([df_reform, new_row], ignore_index=True)\n",
    "    if row['eng']:\n",
    "        new_row = pd.DataFrame({'name': [row['name'] + ' [eng]'], 'path': [row['eng']], 'split': ['@']})\n",
    "        df_reform = pd.concat([df_reform, new_row], ignore_index=True)\n",
    "\n",
    "df_reform.to_csv('path_list.csv', index=False)"
   ]
  }
 ],
 "metadata": {
  "kernelspec": {
   "display_name": "venv",
   "language": "python",
   "name": "python3"
  },
  "language_info": {
   "codemirror_mode": {
    "name": "ipython",
    "version": 3
   },
   "file_extension": ".py",
   "mimetype": "text/x-python",
   "name": "python",
   "nbconvert_exporter": "python",
   "pygments_lexer": "ipython3",
   "version": "3.12.6"
  }
 },
 "nbformat": 4,
 "nbformat_minor": 2
}
