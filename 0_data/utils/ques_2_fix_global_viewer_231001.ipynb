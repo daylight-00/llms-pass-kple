{
 "cells": [
  {
   "cell_type": "code",
   "execution_count": null,
   "metadata": {},
   "outputs": [],
   "source": [
    "from glob import glob\n",
    "import pickle\n",
    "\n",
    "def viewer(path, name):\n",
    "    save = glob(f'{path}*/{name}*')\n",
    "\n",
    "    if len(save) == 0:\n",
    "        print(\"No such file\")\n",
    "    else:\n",
    "        print(save)\n",
    "        with open(save[0], 'rb') as f:\n",
    "            exam = pickle.load(f)\n",
    "        f.close()\n",
    "        for ques in exam:\n",
    "            print(ques)\n",
    "            print('##########################\\n')"
   ]
  },
  {
   "cell_type": "code",
   "execution_count": null,
   "metadata": {
    "slideshow": {
     "slide_type": "subslide"
    }
   },
   "outputs": [],
   "source": [
    "viewer(\n",
    "    path = \"ques_fixed\",\n",
    "    name = \"2023_74_1\"\n",
    "    )"
   ]
  }
 ],
 "metadata": {
  "kernelspec": {
   "display_name": "venv",
   "language": "python",
   "name": "python3"
  },
  "language_info": {
   "codemirror_mode": {
    "name": "ipython",
    "version": 3
   },
   "file_extension": ".py",
   "mimetype": "text/x-python",
   "name": "python",
   "nbconvert_exporter": "python",
   "pygments_lexer": "ipython3",
   "version": "3.11.5"
  },
  "orig_nbformat": 4
 },
 "nbformat": 4,
 "nbformat_minor": 2
}
