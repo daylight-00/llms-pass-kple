{
 "cells": [
  {
   "cell_type": "code",
   "execution_count": 1,
   "metadata": {},
   "outputs": [],
   "source": [
    "from glob import glob\n",
    "import os\n",
    "import pickle"
   ]
  },
  {
   "cell_type": "code",
   "execution_count": null,
   "metadata": {},
   "outputs": [],
   "source": [
    "ques_path = r\"ques_fixed\"\n",
    "out_path = os.path.basename(ques_path) + \"_re\"\n",
    "os.makedirs(out_path, exist_ok=True)\n",
    "\n",
    "saves_3 = sorted(glob(f'{ques_path}/*3.pkl'))\n",
    "saves_4 = sorted(glob(f'{ques_path}/*4.pkl'))\n",
    "saves_3_4 = [list(pair) for pair in zip(saves_3, saves_4)]"
   ]
  },
  {
   "cell_type": "code",
   "execution_count": 3,
   "metadata": {},
   "outputs": [],
   "source": [
    "for path_list in saves_3_4:\n",
    "    with open(path_list[0], 'rb') as f:\n",
    "        exam_3 = pickle.load(f)\n",
    "    f.close()\n",
    "    with open(path_list[1], 'rb') as f:\n",
    "        exam_4 = pickle.load(f)\n",
    "    f.close()\n",
    "\n",
    "    exam_4_re = exam_4[-20:]\n",
    "    exam_3_re = exam_3+exam_4[:-20]\n",
    "\n",
    "    f.close()\n",
    "    filename = os.path.basename(path_list[0])[:-6]\n",
    "\n",
    "    with open(f'{out_path}/{filename}_3.pkl', 'wb') as f:\n",
    "        pickle.dump(exam_3_re, f)\n",
    "    f.close()\n",
    "    with open(f'{out_path}/{filename}_4.pkl', 'wb') as f:\n",
    "        pickle.dump(exam_4_re, f)\n",
    "    f.close()"
   ]
  }
 ],
 "metadata": {
  "kernelspec": {
   "display_name": "venv",
   "language": "python",
   "name": "python3"
  },
  "language_info": {
   "codemirror_mode": {
    "name": "ipython",
    "version": 3
   },
   "file_extension": ".py",
   "mimetype": "text/x-python",
   "name": "python",
   "nbconvert_exporter": "python",
   "pygments_lexer": "ipython3",
   "version": "3.11.8"
  }
 },
 "nbformat": 4,
 "nbformat_minor": 2
}
