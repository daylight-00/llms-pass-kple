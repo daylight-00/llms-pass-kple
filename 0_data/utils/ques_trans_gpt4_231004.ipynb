{
 "cells": [
  {
   "cell_type": "code",
   "execution_count": null,
   "metadata": {},
   "outputs": [],
   "source": [
    "from glob import glob\n",
    "import pickle\n",
    "import openai\n",
    "import os\n",
    "from tqdm import tqdm\n",
    "import time\n",
    "\n",
    "openai.api_key = ''"
   ]
  },
  {
   "cell_type": "code",
   "execution_count": 2,
   "metadata": {},
   "outputs": [
    {
     "name": "stdout",
     "output_type": "stream",
     "text": [
      "20\n"
     ]
    }
   ],
   "source": [
    "ques_path = '../../data/ques_fixed/'\n",
    "saves = glob(f'{ques_path}/*.pkl')\n",
    "print(len(saves))\n",
    "\n",
    "resp_path = 'resp'\n",
    "\n",
    "context = \"\"\"\\\n",
    "You are a very good translator. \\\n",
    "The text I want to translate is the Korean pharmacist national exam. \\\n",
    "I type in the Korean questions and you convert them to English in their original form.\\\n",
    "\"\"\""
   ]
  },
  {
   "cell_type": "code",
   "execution_count": 3,
   "metadata": {},
   "outputs": [
    {
     "name": "stderr",
     "output_type": "stream",
     "text": [
      "2019_70_1.pkl:   0%|          | 0/100 [00:00<?, ?it/s]"
     ]
    },
    {
     "name": "stderr",
     "output_type": "stream",
     "text": [
      "2019_70_1.pkl: 100%|██████████| 100/100 [01:07<00:00,  1.48it/s]\n",
      "2019_70_2.pkl: 100%|██████████| 90/90 [01:03<00:00,  1.42it/s]\n",
      "2019_70_3.pkl: 100%|██████████| 77/77 [01:23<00:00,  1.09s/it]\n",
      "2019_70_4.pkl: 100%|██████████| 83/83 [01:20<00:00,  1.03it/s]\n",
      "2020_71_1.pkl: 100%|██████████| 100/100 [01:03<00:00,  1.59it/s]\n",
      "2020_71_2.pkl:  42%|████▏     | 38/90 [00:30<00:38,  1.34it/s]"
     ]
    },
    {
     "name": "stdout",
     "output_type": "stream",
     "text": [
      "The server is overloaded or not ready yet.\n",
      "Retrying... (1/5)\n"
     ]
    },
    {
     "name": "stderr",
     "output_type": "stream",
     "text": [
      "2020_71_2.pkl: 100%|██████████| 90/90 [01:33<00:00,  1.04s/it]\n",
      "2020_71_3.pkl: 100%|██████████| 77/77 [01:25<00:00,  1.11s/it]\n",
      "2020_71_4.pkl: 100%|██████████| 83/83 [01:19<00:00,  1.04it/s]\n",
      "2021_72_1.pkl: 100%|██████████| 100/100 [01:08<00:00,  1.47it/s]\n",
      "2021_72_2.pkl: 100%|██████████| 90/90 [01:13<00:00,  1.22it/s]\n",
      "2021_72_3.pkl: 100%|██████████| 77/77 [01:41<00:00,  1.32s/it]\n",
      "2021_72_4.pkl: 100%|██████████| 83/83 [01:13<00:00,  1.13it/s]\n",
      "2022_73_1.pkl: 100%|██████████| 100/100 [01:12<00:00,  1.39it/s]\n",
      "2022_73_2.pkl: 100%|██████████| 90/90 [01:23<00:00,  1.08it/s]\n",
      "2022_73_3.pkl: 100%|██████████| 77/77 [01:35<00:00,  1.24s/it]\n",
      "2022_73_4.pkl: 100%|██████████| 83/83 [01:21<00:00,  1.02it/s]\n",
      "2023_74_1.pkl: 100%|██████████| 100/100 [01:15<00:00,  1.33it/s]\n",
      "2023_74_2.pkl: 100%|██████████| 90/90 [01:17<00:00,  1.16it/s]\n",
      "2023_74_3.pkl: 100%|██████████| 77/77 [01:37<00:00,  1.27s/it]\n",
      "2023_74_4.pkl: 100%|██████████| 83/83 [01:18<00:00,  1.05it/s]\n"
     ]
    }
   ],
   "source": [
    "from concurrent.futures import ThreadPoolExecutor\n",
    "\n",
    "def process_and_update(ques, content, pbar):\n",
    "    max_retries = 5\n",
    "    retries = 0\n",
    "    while retries < max_retries:\n",
    "        try:\n",
    "            response = openai.ChatCompletion.create(\n",
    "                model=\"gpt-4\",\n",
    "                messages=[\n",
    "                    {\"role\": \"system\", \"content\": context},\n",
    "                    {\"role\": \"user\", \"content\": f\"{ques}\"}\n",
    "                ]\n",
    "            )\n",
    "            pbar.update(1)\n",
    "            return response.choices[0].message.content\n",
    "        except Exception as e:\n",
    "            retries += 1\n",
    "            print(e)\n",
    "            print(f\"Retrying... ({retries}/{max_retries})\")\n",
    "            time.sleep(60)\n",
    "\n",
    "def process_exam(path):\n",
    "    with open(path, 'rb') as f:\n",
    "        exam = pickle.load(f)\n",
    "    f.close()\n",
    "    filename = os.path.basename(path)\n",
    "    resp = []\n",
    "    with tqdm(total=len(exam),desc=filename) as pbar:\n",
    "        with ThreadPoolExecutor() as executor:\n",
    "            results = list(executor.map(lambda ques: process_and_update(ques, context, pbar), exam))\n",
    "        \n",
    "        for result in results:\n",
    "            resp.append(result)\n",
    "\n",
    "    if not os.path.exists(resp_path):\n",
    "        os.makedirs(resp_path)\n",
    "    with open(f'{resp_path}/{filename}', 'wb') as f:\n",
    "        pickle.dump(resp, f)\n",
    "\n",
    "for path in saves:\n",
    "    process_exam(path)"
   ]
  }
 ],
 "metadata": {
  "kernelspec": {
   "display_name": "venv",
   "language": "python",
   "name": "python3"
  },
  "language_info": {
   "codemirror_mode": {
    "name": "ipython",
    "version": 3
   },
   "file_extension": ".py",
   "mimetype": "text/x-python",
   "name": "python",
   "nbconvert_exporter": "python",
   "pygments_lexer": "ipython3",
   "version": "3.11.6"
  },
  "orig_nbformat": 4
 },
 "nbformat": 4,
 "nbformat_minor": 2
}
