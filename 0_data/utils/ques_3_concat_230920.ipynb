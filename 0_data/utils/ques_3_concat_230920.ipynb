{
 "cells": [
  {
   "cell_type": "code",
   "execution_count": 1,
   "metadata": {},
   "outputs": [],
   "source": [
    "from glob import glob\n",
    "import pickle\n",
    "from tqdm import tqdm\n",
    "import os"
   ]
  },
  {
   "cell_type": "code",
   "execution_count": 2,
   "metadata": {},
   "outputs": [
    {
     "data": {
      "text/plain": [
       "['../Phase 1/230830/ques\\\\2023_74_4.pkl',\n",
       " '../Phase 1/230830/ques\\\\2023_74_3.pkl',\n",
       " '../Phase 1/230830/ques\\\\2023_74_2.pkl',\n",
       " '../Phase 1/230830/ques\\\\2023_74_1.pkl',\n",
       " '../Phase 1/230830/ques\\\\2022_73_4.pkl',\n",
       " '../Phase 1/230830/ques\\\\2022_73_3.pkl',\n",
       " '../Phase 1/230830/ques\\\\2022_73_2.pkl',\n",
       " '../Phase 1/230830/ques\\\\2022_73_1.pkl',\n",
       " '../Phase 1/230830/ques\\\\2021_72_4.pkl',\n",
       " '../Phase 1/230830/ques\\\\2021_72_3.pkl',\n",
       " '../Phase 1/230830/ques\\\\2021_72_2.pkl',\n",
       " '../Phase 1/230830/ques\\\\2021_72_1.pkl',\n",
       " '../Phase 1/230830/ques\\\\2020_71_4.pkl',\n",
       " '../Phase 1/230830/ques\\\\2020_71_3.pkl',\n",
       " '../Phase 1/230830/ques\\\\2020_71_2.pkl',\n",
       " '../Phase 1/230830/ques\\\\2020_71_1.pkl',\n",
       " '../Phase 1/230830/ques\\\\2019_70_4.pkl',\n",
       " '../Phase 1/230830/ques\\\\2019_70_3.pkl',\n",
       " '../Phase 1/230830/ques\\\\2019_70_2.pkl',\n",
       " '../Phase 1/230830/ques\\\\2019_70_1.pkl']"
      ]
     },
     "execution_count": 2,
     "metadata": {},
     "output_type": "execute_result"
    }
   ],
   "source": [
    "ques_path = '../Phase 1/230830/ques/'\n",
    "saves = glob(f'{ques_path}/*.pkl')\n",
    "saves.sort(reverse=True)\n",
    "saves"
   ]
  },
  {
   "cell_type": "code",
   "execution_count": 3,
   "metadata": {},
   "outputs": [],
   "source": [
    "def conv(ques):\n",
    "    q1 = ques[0]\n",
    "    q2 = ''\n",
    "    q3 = ''\n",
    "    for item in ques[1]:\n",
    "        q2 += item + '\\n'\n",
    "    for item in ques[2]:\n",
    "        q3 += item + '\\n'\n",
    "    q = q1 + '\\n' + q2 + '\\n' + q3\n",
    "    return q"
   ]
  },
  {
   "cell_type": "code",
   "execution_count": 4,
   "metadata": {},
   "outputs": [
    {
     "name": "stderr",
     "output_type": "stream",
     "text": [
      "2023_74_4.pkl: 100%|██████████| 83/83 [00:00<?, ?it/s]\n",
      "2023_74_3.pkl: 100%|██████████| 77/77 [00:00<?, ?it/s]\n",
      "2023_74_2.pkl: 100%|██████████| 90/90 [00:00<00:00, 90113.96it/s]\n",
      "2023_74_1.pkl: 100%|██████████| 100/100 [00:00<?, ?it/s]\n",
      "2022_73_4.pkl: 100%|██████████| 83/83 [00:00<00:00, 82299.58it/s]\n",
      "2022_73_3.pkl: 100%|██████████| 77/77 [00:00<00:00, 76170.14it/s]\n",
      "2022_73_2.pkl: 100%|██████████| 90/90 [00:00<00:00, 89899.35it/s]\n",
      "2022_73_1.pkl: 100%|██████████| 100/100 [00:00<00:00, 99959.58it/s]\n",
      "2021_72_4.pkl: 100%|██████████| 83/83 [00:00<00:00, 82828.27it/s]\n",
      "2021_72_3.pkl: 100%|██████████| 77/77 [00:00<?, ?it/s]\n",
      "2021_72_2.pkl: 100%|██████████| 90/90 [00:00<?, ?it/s]\n",
      "2021_72_1.pkl: 100%|██████████| 100/100 [00:00<?, ?it/s]\n",
      "2020_71_4.pkl: 100%|██████████| 83/83 [00:00<?, ?it/s]\n",
      "2020_71_3.pkl: 100%|██████████| 77/77 [00:00<?, ?it/s]\n",
      "2020_71_2.pkl: 100%|██████████| 90/90 [00:00<00:00, 90243.21it/s]\n",
      "2020_71_1.pkl: 100%|██████████| 100/100 [00:00<?, ?it/s]\n",
      "2019_70_4.pkl: 100%|██████████| 83/83 [00:00<?, ?it/s]\n",
      "2019_70_3.pkl: 100%|██████████| 77/77 [00:00<?, ?it/s]\n",
      "2019_70_2.pkl: 100%|██████████| 90/90 [00:00<?, ?it/s]\n",
      "2019_70_1.pkl: 100%|██████████| 100/100 [00:00<?, ?it/s]\n"
     ]
    }
   ],
   "source": [
    "concat_path = 'ques_concat'\n",
    "if not os.path.exists(concat_path):\n",
    "    os.makedirs(concat_path)\n",
    "\n",
    "for path in saves:\n",
    "    with open(path, 'rb') as f:\n",
    "        exam = pickle.load(f)\n",
    "    f.close()\n",
    "    filename = os.path.basename(path)\n",
    "    \n",
    "    ques_concat = []\n",
    "    with tqdm(total=len(exam), desc=filename) as pbar:\n",
    "        for ques in exam:\n",
    "            ques_concat.append(conv(ques))\n",
    "            pbar.update(1)\n",
    "    with open(f'{concat_path}/{filename}', 'wb') as f:\n",
    "        pickle.dump(ques_concat, f)"
   ]
  }
 ],
 "metadata": {
  "kernelspec": {
   "display_name": "venv",
   "language": "python",
   "name": "python3"
  },
  "language_info": {
   "codemirror_mode": {
    "name": "ipython",
    "version": 3
   },
   "file_extension": ".py",
   "mimetype": "text/x-python",
   "name": "python",
   "nbconvert_exporter": "python",
   "pygments_lexer": "ipython3",
   "version": "3.11.5"
  }
 },
 "nbformat": 4,
 "nbformat_minor": 2
}
