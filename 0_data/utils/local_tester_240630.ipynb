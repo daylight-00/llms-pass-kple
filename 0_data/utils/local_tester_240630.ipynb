{
 "cells": [
  {
   "cell_type": "code",
   "execution_count": null,
   "metadata": {},
   "outputs": [],
   "source": [
    "# 240630\n",
    "\n",
    "import torch\n",
    "from transformers import AutoModelForCausalLM, AutoTokenizer, TextStreamer\n",
    "import os, json\n",
    "from format import *"
   ]
  },
  {
   "cell_type": "code",
   "execution_count": null,
   "metadata": {},
   "outputs": [],
   "source": [
    "# model_path, prompt_fn = (\"meta-llama/Llama-2-70b-chat-hf\", prompt_llama2)\n",
    "# model_path, prompt_fn = (\"upstage/SOLAR-0-70b-16bit\", prompt_solar)\n",
    "# model_path, prompt_fn = (\"upstage/SOLAR-10.7B-Instruct-v1.0\", prompt_solar)\n",
    "# model_path, prompt_fn = (\"moreh/MoMo-72B-lora-1.8.7-DPO\", prompt_momo)\n",
    "# model_path, prompt_fn = (\"meta-llama/Meta-Llama-3-70B-Instruct\", prompt_llama3)\n",
    "# model_path, prompt_fn = (\"CohereForAI/c4ai-command-r-plus\", prompt_command)\n",
    "# model_path, prompt_fn = (\"Qwen/Qwen2-72B-Instruct\", prompt_qwen2)\n",
    "# model_path, prompt_fn = (\"01-ai/Yi-1.5-34B-Chat\", prompt_yi)\n",
    "model_path, prompt_fn = (\"microsoft/Phi-3-medium-4k-instruct\", prompt_phi3)"
   ]
  },
  {
   "cell_type": "markdown",
   "metadata": {},
   "source": [
    "### Tokenizer Test"
   ]
  },
  {
   "cell_type": "code",
   "execution_count": null,
   "metadata": {},
   "outputs": [],
   "source": [
    "tokenizer = AutoTokenizer.from_pretrained(model_path)\n",
    "messages = [\n",
    "    {\"role\": \"system\", \"content\": \"system_test\"},\n",
    "    {\"role\": \"user\", \"content\": \"user_test\"},\n",
    "]\n",
    "text = tokenizer.apply_chat_template(\n",
    "    messages,\n",
    "    tokenize=False,\n",
    "    add_generation_prompt=True\n",
    ")\n",
    "print(text)\n",
    "print(\"########################\")\n",
    "prompt = text\n",
    "inputs = tokenizer(prompt, return_tensors=\"pt\", add_special_tokens=False)\n",
    "decode_text = tokenizer.decode(inputs.input_ids[0],skip_special_tokens=False)\n",
    "print(decode_text)\n",
    "print(\"########################\")"
   ]
  },
  {
   "cell_type": "code",
   "execution_count": null,
   "metadata": {},
   "outputs": [],
   "source": [
    "text = prompt_fn(\"system_test\",\"user_test\")\n",
    "print(text)\n",
    "print(\"########################\")\n",
    "prompt = text\n",
    "inputs = tokenizer(prompt, return_tensors=\"pt\", add_special_tokens=False)\n",
    "decode_text = tokenizer.decode(inputs.input_ids[0],skip_special_tokens=False)\n",
    "print(decode_text)\n",
    "print(\"########################\")"
   ]
  },
  {
   "cell_type": "markdown",
   "metadata": {},
   "source": [
    "### Streamer Test"
   ]
  },
  {
   "cell_type": "code",
   "execution_count": null,
   "metadata": {},
   "outputs": [],
   "source": [
    "model = AutoModelForCausalLM.from_pretrained(\n",
    "    model_path,\n",
    "    device_map=\"auto\",\n",
    "    torch_dtype=torch.bfloat16,\n",
    "    attn_implementation=\"flash_attention_2\",\n",
    "    trust_remote_code=True, \n",
    ")\n",
    "\n",
    "context= \"You are a pirate chatbot who always responds in pirate speak!\"\n",
    "question = \"안녕?\"\n",
    "inputs = tokenizer(prompt, return_tensors=\"pt\", add_special_tokens=False).to(model.device)\n",
    "\n",
    "streamer = TextStreamer(tokenizer, skip_prompt=False, skip_special_tokens=False)\n",
    "output = model.generate(\n",
    "    **inputs, use_cache=True, do_sample=False, temperature=None, top_p=None, top_k=None,\n",
    "    max_new_tokens=float('inf'), \n",
    "    streamer=streamer, \n",
    "    # eos_token_id=tokenizer.eos_token_id,\n",
    "    # eos_token_id=[tokenizer.eos_token_id,tokenizer.convert_tokens_to_ids(\"<|eot_id|>\")],\n",
    "    # pad_token_id=tokenizer.eos_token_id,\n",
    "    )\n",
    "output_text = tokenizer.decode(output[0], skip_special_tokens=False)"
   ]
  },
  {
   "cell_type": "code",
   "execution_count": null,
   "metadata": {},
   "outputs": [],
   "source": [
    "exam_path = exam_list_local[0]\n",
    "with open(exam_path, encoding='utf-8') as f:\n",
    "    exam = json.load(f)\n",
    "    f.close()\n",
    "ques_dict = exam[570]\n",
    "\n",
    "prompt = prompt_fn(inst,ques_dict['question_text'])\n",
    "inputs = tokenizer(prompt, return_tensors=\"pt\", add_special_tokens=False).to(model.device)\n",
    "\n",
    "streamer = TextStreamer(tokenizer, skip_prompt=False, skip_special_tokens=False)\n",
    "output = model.generate(\n",
    "    **inputs, use_cache=True, do_sample=False, temperature=None, top_p=None, top_k=None,\n",
    "    max_new_tokens=float('inf'), \n",
    "    streamer=streamer, \n",
    "    # eos_token_id=tokenizer.eos_token_id,\n",
    "    # eos_token_id=[tokenizer.eos_token_id,tokenizer.convert_tokens_to_ids(\"<|eot_id|>\")],\n",
    "    # pad_token_id=tokenizer.eos_token_id,\n",
    "    )\n",
    "output_text = tokenizer.decode(output[0], skip_special_tokens=False)"
   ]
  }
 ],
 "metadata": {
  "kernelspec": {
   "display_name": "venv",
   "language": "python",
   "name": "python3"
  },
  "language_info": {
   "codemirror_mode": {
    "name": "ipython",
    "version": 3
   },
   "file_extension": ".py",
   "mimetype": "text/x-python",
   "name": "python",
   "nbconvert_exporter": "python",
   "pygments_lexer": "ipython3",
   "version": "3.1.-1"
  }
 },
 "nbformat": 4,
 "nbformat_minor": 2
}
