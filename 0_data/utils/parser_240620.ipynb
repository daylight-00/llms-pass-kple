{
 "cells": [
  {
   "cell_type": "code",
   "execution_count": null,
   "metadata": {},
   "outputs": [],
   "source": [
    "import pickle\n",
    "import os\n",
    "import json\n",
    "import re\n",
    "from glob import glob\n",
    "json_data = []\n",
    "paths = glob(r\"resp_f1_p1_q1/*.pkl\")"
   ]
  },
  {
   "cell_type": "code",
   "execution_count": 2,
   "metadata": {},
   "outputs": [],
   "source": [
    "for path in paths:\n",
    "    year, session = re.match(r'(\\d{4})_.*_(\\d)\\.pkl', os.path.basename(path)).groups()\n",
    "    with open(path, 'rb') as f:\n",
    "        data = pickle.load(f)\n",
    "    for index, question in enumerate(data):\n",
    "        common_question_text_temp =question.split(f'{index+1}. ')[0].strip()\n",
    "        if common_question_text_temp == '':\n",
    "            common_question_text = None\n",
    "            common_materials = None\n",
    "        else:\n",
    "            common_question_text = common_question_text_temp.split('\\n')[0].strip().split('] ',1)[-1]\n",
    "            common_materials = common_question_text_temp.split('\\n',1)[1].strip() if len(common_question_text_temp.split('\\n'))>1 else None\n",
    "\n",
    "        question_choices = question.split(f'{index+1}. ')[-1].strip()\n",
    "        question_text=question_choices.split('①')[0].strip()\n",
    "        choices_merged='① '+question_choices.split('①')[-1].strip()\n",
    "        choices=choices_merged.split('\\n')\n",
    "\n",
    "        materials = question_text.split('?')[-1].strip()\n",
    "        if materials == '':\n",
    "            materials = None\n",
    "        question_text = question_text.split('?')[0].strip()+'?'\n",
    "\n",
    "        question_entry = {\n",
    "            \"year\": int(year),\n",
    "            \"session\": int(session),\n",
    "            \"common_question_text\": common_question_text,\n",
    "            \"common_data\": common_materials,\n",
    "            \"question_number\": index+1,\n",
    "            \"question_text\": question_text,\n",
    "            \"data\": materials,\n",
    "            \"choices\": choices,\n",
    "        }\n",
    "        json_data.append(question_entry)\n",
    "\n",
    "json_output = json.dumps(json_data, ensure_ascii=False, indent=4)\n",
    "\n",
    "output_file_path = f'opus.json'\n",
    "with open(output_file_path, 'w', encoding='utf-8') as output_file:\n",
    "    output_file.write(json_output)"
   ]
  }
 ],
 "metadata": {
  "kernelspec": {
   "display_name": "venv",
   "language": "python",
   "name": "python3"
  },
  "language_info": {
   "codemirror_mode": {
    "name": "ipython",
    "version": 3
   },
   "file_extension": ".py",
   "mimetype": "text/x-python",
   "name": "python",
   "nbconvert_exporter": "python",
   "pygments_lexer": "ipython3",
   "version": "3.12.3"
  }
 },
 "nbformat": 4,
 "nbformat_minor": 2
}
