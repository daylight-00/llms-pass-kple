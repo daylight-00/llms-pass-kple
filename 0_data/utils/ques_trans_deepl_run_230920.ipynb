{
 "cells": [
  {
   "cell_type": "code",
   "execution_count": null,
   "metadata": {},
   "outputs": [],
   "source": [
    "from glob import glob\n",
    "import pickle\n",
    "from tqdm import tqdm\n",
    "import os\n",
    "import deepl\n",
    "\n",
    "auth_key = \"\"\n",
    "translator = deepl.Translator(auth_key)"
   ]
  },
  {
   "cell_type": "code",
   "execution_count": 2,
   "metadata": {},
   "outputs": [
    {
     "data": {
      "text/plain": [
       "['../../data/ques_concat\\\\2023_74_4.pkl',\n",
       " '../../data/ques_concat\\\\2023_74_3.pkl',\n",
       " '../../data/ques_concat\\\\2023_74_2.pkl',\n",
       " '../../data/ques_concat\\\\2023_74_1.pkl',\n",
       " '../../data/ques_concat\\\\2022_73_4.pkl',\n",
       " '../../data/ques_concat\\\\2022_73_3.pkl',\n",
       " '../../data/ques_concat\\\\2022_73_2.pkl',\n",
       " '../../data/ques_concat\\\\2022_73_1.pkl',\n",
       " '../../data/ques_concat\\\\2021_72_4.pkl',\n",
       " '../../data/ques_concat\\\\2021_72_3.pkl',\n",
       " '../../data/ques_concat\\\\2021_72_2.pkl',\n",
       " '../../data/ques_concat\\\\2021_72_1.pkl',\n",
       " '../../data/ques_concat\\\\2020_71_4.pkl',\n",
       " '../../data/ques_concat\\\\2020_71_3.pkl',\n",
       " '../../data/ques_concat\\\\2020_71_2.pkl',\n",
       " '../../data/ques_concat\\\\2020_71_1.pkl',\n",
       " '../../data/ques_concat\\\\2019_70_4.pkl',\n",
       " '../../data/ques_concat\\\\2019_70_3.pkl',\n",
       " '../../data/ques_concat\\\\2019_70_2.pkl',\n",
       " '../../data/ques_concat\\\\2019_70_1.pkl']"
      ]
     },
     "execution_count": 2,
     "metadata": {},
     "output_type": "execute_result"
    }
   ],
   "source": [
    "ques_path = '../../data/ques_concat/'\n",
    "saves = glob(f'{ques_path}/*.pkl')\n",
    "saves.sort(reverse=True)\n",
    "saves"
   ]
  },
  {
   "cell_type": "code",
   "execution_count": 3,
   "metadata": {},
   "outputs": [
    {
     "name": "stderr",
     "output_type": "stream",
     "text": [
      "2023_74_4.pkl:   0%|          | 0/83 [00:00<?, ?it/s]"
     ]
    },
    {
     "name": "stderr",
     "output_type": "stream",
     "text": [
      "2023_74_4.pkl:   0%|          | 0/83 [00:43<?, ?it/s]\n",
      "2023_74_3.pkl:   0%|          | 0/77 [00:40<?, ?it/s]\n",
      "2023_74_2.pkl:   0%|          | 0/90 [00:46<?, ?it/s]\n",
      "2023_74_1.pkl:   0%|          | 0/100 [00:47<?, ?it/s]\n",
      "2022_73_4.pkl:   0%|          | 0/83 [00:41<?, ?it/s]\n",
      "2022_73_3.pkl:   0%|          | 0/77 [00:38<?, ?it/s]\n",
      "2022_73_2.pkl:   0%|          | 0/90 [00:44<?, ?it/s]\n",
      "2022_73_1.pkl:   0%|          | 0/100 [00:47<?, ?it/s]\n",
      "2021_72_4.pkl:   0%|          | 0/83 [00:40<?, ?it/s]\n",
      "2021_72_3.pkl:   0%|          | 0/77 [00:39<?, ?it/s]\n",
      "2021_72_2.pkl:   0%|          | 0/90 [00:46<?, ?it/s]\n",
      "2021_72_1.pkl:   0%|          | 0/100 [00:49<?, ?it/s]\n",
      "2020_71_4.pkl:   0%|          | 0/83 [00:41<?, ?it/s]\n",
      "2020_71_3.pkl:   0%|          | 0/77 [00:39<?, ?it/s]\n",
      "2020_71_2.pkl:   0%|          | 0/90 [00:44<?, ?it/s]\n",
      "2020_71_1.pkl:   0%|          | 0/100 [00:48<?, ?it/s]\n",
      "2019_70_4.pkl:   0%|          | 0/83 [00:43<?, ?it/s]\n",
      "2019_70_3.pkl:   0%|          | 0/77 [00:44<?, ?it/s]\n",
      "2019_70_2.pkl:   0%|          | 0/90 [00:45<?, ?it/s]\n",
      "2019_70_1.pkl:   0%|          | 0/100 [00:50<?, ?it/s]\n"
     ]
    }
   ],
   "source": [
    "ques_trans = 'ques_trans'\n",
    "if not os.path.exists(ques_trans):\n",
    "    os.makedirs(ques_trans)\n",
    "\n",
    "for path in saves:\n",
    "    with open(path, 'rb') as f:\n",
    "        exam = pickle.load(f)\n",
    "    f.close()\n",
    "    filename = os.path.basename(path)\n",
    "    \n",
    "    ques_concat = []\n",
    "    with tqdm(total=len(exam), desc=filename) as pbar:\n",
    "        for ques in exam:\n",
    "            result = translator.translate_text(ques, target_lang='EN-US')\n",
    "            ques_concat.append(result.text)\n",
    "            pbar.update(1)\n",
    "    with open(f'{ques_trans}/{filename}', 'wb') as f:\n",
    "        pickle.dump(ques_concat, f)"
   ]
  }
 ],
 "metadata": {
  "kernelspec": {
   "display_name": "venv",
   "language": "python",
   "name": "python3"
  },
  "language_info": {
   "codemirror_mode": {
    "name": "ipython",
    "version": 3
   },
   "file_extension": ".py",
   "mimetype": "text/x-python",
   "name": "python",
   "nbconvert_exporter": "python",
   "pygments_lexer": "ipython3",
   "version": "3.11.5"
  }
 },
 "nbformat": 4,
 "nbformat_minor": 2
}
