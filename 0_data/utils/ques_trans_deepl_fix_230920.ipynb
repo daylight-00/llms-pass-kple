{
 "cells": [
  {
   "cell_type": "code",
   "execution_count": 1,
   "metadata": {},
   "outputs": [],
   "source": [
    "from glob import glob\n",
    "import pickle\n",
    "from tqdm import tqdm\n",
    "import os"
   ]
  },
  {
   "cell_type": "code",
   "execution_count": 2,
   "metadata": {},
   "outputs": [
    {
     "data": {
      "text/plain": [
       "['../../data/ques_trans\\\\2023_74_4.pkl',\n",
       " '../../data/ques_trans\\\\2023_74_3.pkl',\n",
       " '../../data/ques_trans\\\\2023_74_2.pkl',\n",
       " '../../data/ques_trans\\\\2023_74_1.pkl',\n",
       " '../../data/ques_trans\\\\2022_73_4.pkl',\n",
       " '../../data/ques_trans\\\\2022_73_3.pkl',\n",
       " '../../data/ques_trans\\\\2022_73_2.pkl',\n",
       " '../../data/ques_trans\\\\2022_73_1.pkl',\n",
       " '../../data/ques_trans\\\\2021_72_4.pkl',\n",
       " '../../data/ques_trans\\\\2021_72_3.pkl',\n",
       " '../../data/ques_trans\\\\2021_72_2.pkl',\n",
       " '../../data/ques_trans\\\\2021_72_1.pkl',\n",
       " '../../data/ques_trans\\\\2020_71_4.pkl',\n",
       " '../../data/ques_trans\\\\2020_71_3.pkl',\n",
       " '../../data/ques_trans\\\\2020_71_2.pkl',\n",
       " '../../data/ques_trans\\\\2020_71_1.pkl',\n",
       " '../../data/ques_trans\\\\2019_70_4.pkl',\n",
       " '../../data/ques_trans\\\\2019_70_3.pkl',\n",
       " '../../data/ques_trans\\\\2019_70_2.pkl',\n",
       " '../../data/ques_trans\\\\2019_70_1.pkl']"
      ]
     },
     "execution_count": 2,
     "metadata": {},
     "output_type": "execute_result"
    }
   ],
   "source": [
    "ques_path = '../../data/ques_trans/'\n",
    "saves = glob(f'{ques_path}/*.pkl')\n",
    "saves.sort(reverse=True)\n",
    "saves"
   ]
  },
  {
   "cell_type": "code",
   "execution_count": 3,
   "metadata": {},
   "outputs": [
    {
     "name": "stderr",
     "output_type": "stream",
     "text": [
      "2023_74_4.pkl: 100%|██████████| 83/83 [00:00<?, ?it/s]\n",
      "2023_74_3.pkl: 100%|██████████| 77/77 [00:00<00:00, 76950.54it/s]\n",
      "2023_74_2.pkl: 100%|██████████| 90/90 [00:00<?, ?it/s]\n",
      "2023_74_1.pkl: 100%|██████████| 100/100 [00:00<?, ?it/s]\n",
      "2022_73_4.pkl: 100%|██████████| 83/83 [00:00<?, ?it/s]\n",
      "2022_73_3.pkl: 100%|██████████| 77/77 [00:00<?, ?it/s]\n",
      "2022_73_2.pkl: 100%|██████████| 90/90 [00:00<00:00, 89920.76it/s]\n",
      "2022_73_1.pkl: 100%|██████████| 100/100 [00:00<?, ?it/s]\n",
      "2021_72_4.pkl: 100%|██████████| 83/83 [00:00<?, ?it/s]\n",
      "2021_72_3.pkl: 100%|██████████| 77/77 [00:00<00:00, 51214.94it/s]\n",
      "2021_72_2.pkl: 100%|██████████| 90/90 [00:00<00:00, 90200.09it/s]\n",
      "2021_72_1.pkl: 100%|██████████| 100/100 [00:00<?, ?it/s]\n",
      "2020_71_4.pkl: 100%|██████████| 83/83 [00:00<00:00, 83105.09it/s]\n",
      "2020_71_3.pkl: 100%|██████████| 77/77 [00:00<00:00, 77023.95it/s]\n",
      "2020_71_2.pkl: 100%|██████████| 90/90 [00:00<00:00, 90027.99it/s]\n",
      "2020_71_1.pkl: 100%|██████████| 100/100 [00:00<00:00, 99085.85it/s]\n",
      "2019_70_4.pkl: 100%|██████████| 83/83 [00:00<00:00, 81758.39it/s]\n",
      "2019_70_3.pkl: 100%|██████████| 77/77 [00:00<?, ?it/s]\n",
      "2019_70_2.pkl: 100%|██████████| 90/90 [00:00<?, ?it/s]\n",
      "2019_70_1.pkl: 100%|██████████| 100/100 [00:00<00:00, 56435.74it/s]\n"
     ]
    }
   ],
   "source": [
    "fix_path = 'ques_trans_fixed'\n",
    "if not os.path.exists(fix_path):\n",
    "    os.makedirs(fix_path)\n",
    "\n",
    "for path in saves:\n",
    "    with open(path, 'rb') as f:\n",
    "        exam = pickle.load(f)\n",
    "    f.close()\n",
    "    filename = os.path.basename(path)\n",
    "    \n",
    "    ques_fixed = []\n",
    "    with tqdm(total=len(exam), desc=filename) as pbar:\n",
    "        for ques in exam:\n",
    "            ques_split = ques.split('\\n\\n')\n",
    "\n",
    "            ex = ques_split[-1]\n",
    "            if len(ex.split('\\n')) == 6:\n",
    "                ex_split = ex.split('\\n')\n",
    "                for i in range(5):\n",
    "                    if ex_split[i][0] != '①②③④⑤'[i]:\n",
    "                        ex_split[i] = '①②③④⑤'[i] + ' ' + ex_split[i]\n",
    "                ex_fixed = '\\n'.join(ex_split)\n",
    "                ques_split[-1] = ex_fixed\n",
    "                #print(ex_fixed)\n",
    "            ques_restored = '\\n\\n'.join(ques_split)\n",
    "            ques_fixed.append(ques_restored)\n",
    "            pbar.update(1)\n",
    "    with open(f'{fix_path}/{filename}', 'wb') as f:\n",
    "        pickle.dump(ques_fixed, f)"
   ]
  }
 ],
 "metadata": {
  "kernelspec": {
   "display_name": "venv",
   "language": "python",
   "name": "python3"
  },
  "language_info": {
   "codemirror_mode": {
    "name": "ipython",
    "version": 3
   },
   "file_extension": ".py",
   "mimetype": "text/x-python",
   "name": "python",
   "nbconvert_exporter": "python",
   "pygments_lexer": "ipython3",
   "version": "3.11.5"
  }
 },
 "nbformat": 4,
 "nbformat_minor": 2
}
