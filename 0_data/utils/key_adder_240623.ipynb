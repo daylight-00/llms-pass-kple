{
 "cells": [
  {
   "cell_type": "code",
   "execution_count": 1,
   "metadata": {},
   "outputs": [
    {
     "data": {
      "text/plain": [
       "2100"
      ]
     },
     "execution_count": 1,
     "metadata": {},
     "output_type": "execute_result"
    }
   ],
   "source": [
    "import json\n",
    "import pandas as pd\n",
    "\n",
    "with open('exams_final.json') as f:\n",
    "    question_list = json.load(f)\n",
    "len(question_list)"
   ]
  },
  {
   "cell_type": "code",
   "execution_count": null,
   "metadata": {},
   "outputs": [],
   "source": [
    "data = [\n",
    "    {'session': 1, 'question_number_list': list(range(0, 20)), 'subject_id': \"1-1\"},\n",
    "    {'session': 1, 'question_number_list': list(range(20, 40)), 'subject_id': \"1-2\"},\n",
    "    {'session': 1, 'question_number_list': list(range(40, 60)), 'subject_id': \"1-3\"},\n",
    "    {'session': 1, 'question_number_list': list(range(60, 80)), 'subject_id': \"1-4\"},\n",
    "    {'session': 1, 'question_number_list': list(range(80, 100)), 'subject_id': \"1-5\"},\n",
    "    {'session': 2, 'question_number_list': list(range(0, 18)), 'subject_id': \"2-1\"},\n",
    "    {'session': 2, 'question_number_list': list(range(18, 36)), 'subject_id': \"2-2\"},\n",
    "    {'session': 2, 'question_number_list': list(range(36, 54)), 'subject_id': \"2-3\"},\n",
    "    {'session': 2, 'question_number_list': list(range(54, 72)), 'subject_id': \"2-4\"},\n",
    "    {'session': 2, 'question_number_list': list(range(72, 90)), 'subject_id': \"2-5\"},\n",
    "    {'session': 3, 'question_number_list': list(range(0, 77)), 'subject_id': \"3-1\"},\n",
    "    {'session': 4, 'question_number_list': list(range(0, 27)), 'subject_id': \"3-2\"},\n",
    "    {'session': 4, 'question_number_list': list(range(27, 45)), 'subject_id': \"3-3\"},\n",
    "    {'session': 4, 'question_number_list': list(range(45, 63)), 'subject_id': \"3-4\"},\n",
    "    {'session': 4, 'question_number_list': list(range(63, 84)), 'subject_id': \"4-1\"}\n",
    "]\n",
    "\n",
    "for question in question_list:\n",
    "    for entry in data:\n",
    "        if question['session'] == entry['session'] and question['question_number']-1 in entry['question_number_list']:\n",
    "            question['subject_id'] = entry['subject_id']\n",
    "            break\n",
    "\n",
    "df = pd.read_csv(r\"answer-240623.csv\", index_col=2, encoding='utf-8-sig')\n",
    "answer_list=list(df['2019'])+list(df['2020'])+list(df['2021'])+list(df['2022'])+list(df['2023'])+list(df['2024'])\n",
    "len(answer_list), len(question_list)\n",
    "for i, item in enumerate(question_list):\n",
    "    item['answer'] = answer_list[i]"
   ]
  },
  {
   "cell_type": "code",
   "execution_count": 3,
   "metadata": {},
   "outputs": [],
   "source": [
    "with open('exams_list.json', 'w', encoding='utf-8') as f:\n",
    "    json.dump(question_list, f, indent=4, ensure_ascii=False)"
   ]
  }
 ],
 "metadata": {
  "kernelspec": {
   "display_name": "venv",
   "language": "python",
   "name": "python3"
  },
  "language_info": {
   "codemirror_mode": {
    "name": "ipython",
    "version": 3
   },
   "file_extension": ".py",
   "mimetype": "text/x-python",
   "name": "python",
   "nbconvert_exporter": "python",
   "pygments_lexer": "ipython3",
   "version": "3.12.3"
  }
 },
 "nbformat": 4,
 "nbformat_minor": 2
}
