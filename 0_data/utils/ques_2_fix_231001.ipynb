{
 "cells": [
  {
   "cell_type": "code",
   "execution_count": 1,
   "metadata": {},
   "outputs": [],
   "source": [
    "import os\n",
    "from glob import glob\n",
    "import pickle\n",
    "\n",
    "def fixer(name, num, fixed):\n",
    "    path = \"ques_fixed\"\n",
    "    save = glob(f'{path}*/{name}*')[0]\n",
    "\n",
    "    with open(save, 'rb') as f:\n",
    "        exam = pickle.load(f)\n",
    "\n",
    "    exam[num-1] = fixed\n",
    "    filename = os.path.basename(save)\n",
    "    with open(f'{path}/{filename}', 'wb') as f:\n",
    "            pickle.dump(exam, f)"
   ]
  },
  {
   "cell_type": "code",
   "execution_count": null,
   "metadata": {},
   "outputs": [],
   "source": [
    "path = \"ques_fixed\"\n",
    "name = \"2019_70_1\"\n",
    "num = 39\n",
    "fixed = \"\"\"\n",
    "\"\"\"\n",
    "\n",
    "fixer(name, num, fixed)"
   ]
  }
 ],
 "metadata": {
  "kernelspec": {
   "display_name": "venv",
   "language": "python",
   "name": "python3"
  },
  "language_info": {
   "codemirror_mode": {
    "name": "ipython",
    "version": 3
   },
   "file_extension": ".py",
   "mimetype": "text/x-python",
   "name": "python",
   "nbconvert_exporter": "python",
   "pygments_lexer": "ipython3",
   "version": "3.11.5"
  },
  "orig_nbformat": 4
 },
 "nbformat": 4,
 "nbformat_minor": 2
}
