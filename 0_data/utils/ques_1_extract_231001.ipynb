{
 "cells": [
  {
   "cell_type": "code",
   "execution_count": null,
   "metadata": {},
   "outputs": [],
   "source": [
    "import fitz\n",
    "import unicodedata\n",
    "import unicodedata\n",
    "from glob import glob\n",
    "import pickle\n",
    "import os\n",
    "import re\n",
    "\n",
    "paths = glob('../../data/*/*교시.pdf')\n",
    "#display(paths)\n",
    "path = paths[-1]"
   ]
  },
  {
   "cell_type": "code",
   "execution_count": null,
   "metadata": {},
   "outputs": [],
   "source": [
    "def pdf2text(path):\n",
    "    doc = fitz.open(path)\n",
    "    text = \"\"\n",
    "    for page in doc:\n",
    "        text += page.get_text()\n",
    "\n",
    "    lines = text.split('\\n')\n",
    "    i = 0\n",
    "    questions = []\n",
    "    start = None\n",
    "    end = None\n",
    "    for i, line in enumerate(lines):\n",
    "        if len(line) > 4 and unicodedata.category(line[0]) == 'Nd' and line.split()[0][-1] == '.':\n",
    "            start = i\n",
    "        if len(line) > 0 and line[0] == '⑤':\n",
    "            end = i\n",
    "            while end+1 < len(lines) and len(lines[end+1]) > 0:\n",
    "                if lines[end+1][0] == '[' or unicodedata.category(lines[end+1][0]) == 'Nd' or lines[end+1][1:3] == '교시':\n",
    "                    break\n",
    "                else: end += 1\n",
    "            sentence = lines[start:end+1]\n",
    "            questions.append(sentence)\n",
    "    return questions"
   ]
  },
  {
   "cell_type": "code",
   "execution_count": null,
   "metadata": {},
   "outputs": [],
   "source": [
    "def text2array(questions):\n",
    "    new_list = []\n",
    "    for q, item in enumerate(questions):\n",
    "        choice = []\n",
    "        etc = []\n",
    "        ques = []\n",
    "        is_choice = False\n",
    "        ques_end = False\n",
    "        is_cont = False\n",
    "        for i, line in enumerate(item):\n",
    "            if line[-1] in '?>' or line[-2:]=='? ' or '? (' in line:\n",
    "                ques_index = i\n",
    "                if '? (' in line and ')' in item[i+1]:\n",
    "                    ques_index += 1\n",
    "                ques_end = True\n",
    "                continue\n",
    "            elif ques_end and ques_index < i:\n",
    "                if line[0] in '①②③④⑤':\n",
    "                    is_choice = True\n",
    "                    choice.append(line)\n",
    "                elif '국가시험' in line:\n",
    "                    continue\n",
    "                elif is_choice:\n",
    "                    if line[-1] in '- ':\n",
    "                        choice[-1] += line\n",
    "                    else:\n",
    "                        choice[-1] += line\n",
    "                else:\n",
    "                    if line[0] == '•' or line[0] == '[':\n",
    "                        is_cont = True\n",
    "                        etc.append(line)\n",
    "                    elif line[0] != '•' and line[0] != '[' and is_cont:\n",
    "                        etc[-1] += ' ' + line\n",
    "                        test = False\n",
    "                    elif len(line) < 10 and len(etc) > 0:\n",
    "                        etc[-1] += ', ' + line\n",
    "                    else:\n",
    "                        etc.append(line)\n",
    "\n",
    "        ques = ''.join(item[:ques_index+1])\n",
    "        new_list.append([ques, etc, choice])\n",
    "    return new_list"
   ]
  },
  {
   "cell_type": "code",
   "execution_count": null,
   "metadata": {},
   "outputs": [],
   "source": [
    "def couple_text(path):\n",
    "    doc = fitz.open(path)\n",
    "    text = \"\"\n",
    "    for page in doc:\n",
    "        text += page.get_text()\n",
    "\n",
    "    lines = text.split('\\n')\n",
    "    i = 0\n",
    "    questions = []\n",
    "    start = None\n",
    "    end = None\n",
    "    pattern = r\"\\[\\d+～\\d+\\]\"\n",
    "    start_tag = ''\n",
    "    for i, line in enumerate(lines):\n",
    "        matches = re.search(pattern, line)\n",
    "        if matches:\n",
    "            #print(line)\n",
    "            start_num = matches.group().split('～')[0][1:]\n",
    "            #print(start_num)\n",
    "            start_tag = f'{start_num}.'\n",
    "            start = i\n",
    "        elif line[0:len(start_tag)] == start_tag and start_tag != '':\n",
    "            #print(line)\n",
    "            end = i\n",
    "            sentence = lines[start:end]\n",
    "            #display(sentence)\n",
    "            questions.append(sentence)\n",
    "    return questions"
   ]
  },
  {
   "cell_type": "code",
   "execution_count": null,
   "metadata": {},
   "outputs": [],
   "source": [
    "def couple_array(questions):\n",
    "    new_list = []\n",
    "    for q, item in enumerate(questions):\n",
    "        text = ''\n",
    "        for i, line in enumerate(item):\n",
    "            if i == 0:\n",
    "                text += (line+'\\n')\n",
    "                temp = line.split(']')[0].split('～')\n",
    "                start_num = int(temp[0][1:])\n",
    "                end_num = int(temp[-1])\n",
    "                continue\n",
    "            else:\n",
    "                if line[0] in '•[':\n",
    "                    text += ('\\n' + line + '\\n')\n",
    "                    continue\n",
    "                elif line[-1] in '- ':\n",
    "                    text += (line + '')\n",
    "                    continue\n",
    "                else:\n",
    "                    text += (line + '\\n')\n",
    "                    continue\n",
    "        new_list.append([start_num, end_num, text])\n",
    "    return new_list"
   ]
  },
  {
   "cell_type": "code",
   "execution_count": null,
   "metadata": {},
   "outputs": [],
   "source": [
    "def run(paths):\n",
    "    if not os.path.exists('save'):\n",
    "        os.makedirs('save')\n",
    "    for path in paths:        \n",
    "        questions = pdf2text(path)\n",
    "        array = text2array(questions)\n",
    "\n",
    "        couple = couple_text(path)\n",
    "        couple_array_ = couple_array(couple)\n",
    "        for coup_ques in couple_array_:\n",
    "            temp1 = (coup_ques[2] + '\\n' + array[coup_ques[0]-1][0])\n",
    "            temp2 = (coup_ques[2] + '\\n' + array[coup_ques[1]-1][0])\n",
    "            array[coup_ques[0]-1][0] = temp1\n",
    "            array[coup_ques[1]-1][0] = temp2\n",
    "        \n",
    "        print(len(array))\n",
    "\n",
    "        filename = os.path.basename(path).split()\n",
    "        picklename = f'{filename[0][0:4]}_{filename[1][1:3]}_{filename[-1][0]}.pkl'\n",
    "        with open(f'save/{picklename}', 'wb') as f:\n",
    "            pickle.dump(array, f)\n",
    "\n",
    "run(paths)"
   ]
  },
  {
   "cell_type": "code",
   "execution_count": null,
   "metadata": {},
   "outputs": [],
   "source": [
    "saves = glob('save/*.pkl')\n",
    "\n",
    "with open(saves[3], 'rb') as f:\n",
    "    loaded_data = pickle.load(f)\n",
    "f.close()\n",
    "\n",
    "len(loaded_data)"
   ]
  },
  {
   "cell_type": "code",
   "execution_count": null,
   "metadata": {},
   "outputs": [],
   "source": [
    "loaded_data"
   ]
  },
  {
   "cell_type": "code",
   "execution_count": null,
   "metadata": {},
   "outputs": [],
   "source": [
    "print(loaded_data[50][0])"
   ]
  },
  {
   "cell_type": "code",
   "execution_count": null,
   "metadata": {},
   "outputs": [],
   "source": [
    "print(loaded_data[62][0])"
   ]
  }
 ],
 "metadata": {
  "kernelspec": {
   "display_name": "venv",
   "language": "python",
   "name": "python3"
  },
  "language_info": {
   "codemirror_mode": {
    "name": "ipython",
    "version": 3
   },
   "file_extension": ".py",
   "mimetype": "text/x-python",
   "name": "python",
   "nbconvert_exporter": "python",
   "pygments_lexer": "ipython3",
   "version": "3.11.5"
  },
  "orig_nbformat": 4
 },
 "nbformat": 4,
 "nbformat_minor": 2
}
